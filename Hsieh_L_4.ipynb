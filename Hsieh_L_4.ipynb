{
 "cells": [
  {
   "cell_type": "markdown",
   "id": "a9f8ba77-f1e2-48cd-ad47-90094d668cbd",
   "metadata": {},
   "source": [
    "### Individual Assignment 4 - Pandas, Numpy, Sentiment Analysis "
   ]
  },
  {
   "cell_type": "markdown",
   "id": "b8e8e1af-675f-4698-9c84-ba44406165b5",
   "metadata": {},
   "source": [
    "### Background Info"
   ]
  },
  {
   "cell_type": "markdown",
   "id": "27ea66b4-6494-45f9-baf4-8eb65db7e604",
   "metadata": {},
   "source": [
    "WaterPro, an Australia-based company, sells a product called WaterCure. The company believes that the sales performance of WaterCure is affected by weather conditions. To remain profitable, WaterPro needs to achieve an average monthly sales revenue of at least $40,000. The company has provided a CSV file with daily sales data, including information on sales units, unit prices, and average daily temperatures.\n",
    "\n",
    "In addition, WaterPro has been collecting customer reviews for WaterCure. With a $5 incentive per review, the company has gathered 500 reviews, and they want to understand customer sentiment. The company seeks to classify these reviews into positive, neutral, or negative categories to gain insight into customer satisfaction."
   ]
  },
  {
   "cell_type": "code",
   "execution_count": 1,
   "id": "b027604e-ea4b-4275-854b-6040e83f9a4c",
   "metadata": {},
   "outputs": [],
   "source": [
    "import pandas as pd\n",
    "import spacy\n",
    "import nltk"
   ]
  },
  {
   "cell_type": "code",
   "execution_count": 4,
   "id": "80370d80-6b3b-4e10-add9-c24e73edf2f7",
   "metadata": {},
   "outputs": [],
   "source": [
    "df= pd.read_csv ('daily_sales.csv',skiprows = 2)"
   ]
  },
  {
   "cell_type": "markdown",
   "id": "40c8ce1e-dba3-45bd-8cb3-6e86eaa8a43d",
   "metadata": {},
   "source": [
    "**1. find out which months have the sales revenue below $ 40,000 and the average temperature of these months (please use Numpy package for this task)**"
   ]
  },
  {
   "cell_type": "code",
   "execution_count": 191,
   "id": "4c864937-0612-45e7-9e7e-cb35dd92f032",
   "metadata": {},
   "outputs": [
    {
     "data": {
      "text/html": [
       "<div>\n",
       "<style scoped>\n",
       "    .dataframe tbody tr th:only-of-type {\n",
       "        vertical-align: middle;\n",
       "    }\n",
       "\n",
       "    .dataframe tbody tr th {\n",
       "        vertical-align: top;\n",
       "    }\n",
       "\n",
       "    .dataframe thead th {\n",
       "        text-align: right;\n",
       "    }\n",
       "</style>\n",
       "<table border=\"1\" class=\"dataframe\">\n",
       "  <thead>\n",
       "    <tr style=\"text-align: right;\">\n",
       "      <th></th>\n",
       "      <th>Date</th>\n",
       "      <th>Daily Units Sold</th>\n",
       "      <th>Daily Unit Price</th>\n",
       "      <th>Daily Temperature (C)</th>\n",
       "    </tr>\n",
       "  </thead>\n",
       "  <tbody>\n",
       "    <tr>\n",
       "      <th>0</th>\n",
       "      <td>1/1/2024</td>\n",
       "      <td>91</td>\n",
       "      <td>24.0</td>\n",
       "      <td>25</td>\n",
       "    </tr>\n",
       "    <tr>\n",
       "      <th>1</th>\n",
       "      <td>1/2/2024</td>\n",
       "      <td>90</td>\n",
       "      <td>24.0</td>\n",
       "      <td>24</td>\n",
       "    </tr>\n",
       "    <tr>\n",
       "      <th>2</th>\n",
       "      <td>1/3/2024</td>\n",
       "      <td>70</td>\n",
       "      <td>24.0</td>\n",
       "      <td>19</td>\n",
       "    </tr>\n",
       "    <tr>\n",
       "      <th>3</th>\n",
       "      <td>1/4/2024</td>\n",
       "      <td>89</td>\n",
       "      <td>24.0</td>\n",
       "      <td>23</td>\n",
       "    </tr>\n",
       "    <tr>\n",
       "      <th>4</th>\n",
       "      <td>1/5/2024</td>\n",
       "      <td>100</td>\n",
       "      <td>24.0</td>\n",
       "      <td>36</td>\n",
       "    </tr>\n",
       "  </tbody>\n",
       "</table>\n",
       "</div>"
      ],
      "text/plain": [
       "       Date  Daily Units Sold  Daily Unit Price  Daily Temperature (C)\n",
       "0  1/1/2024                91              24.0                     25\n",
       "1  1/2/2024                90              24.0                     24\n",
       "2  1/3/2024                70              24.0                     19\n",
       "3  1/4/2024                89              24.0                     23\n",
       "4  1/5/2024               100              24.0                     36"
      ]
     },
     "execution_count": 191,
     "metadata": {},
     "output_type": "execute_result"
    }
   ],
   "source": [
    "df.head()"
   ]
  },
  {
   "cell_type": "code",
   "execution_count": 193,
   "id": "9f7b9696-1d25-4873-af9a-221f7b2f263d",
   "metadata": {},
   "outputs": [],
   "source": [
    "# Convert the 'Date' column to datetime format for easy handling\n",
    "df['Date'] = pd.to_datetime(df['Date'])\n",
    "\n",
    "# Extract month and year from the Date column\n",
    "df['YearMonth'] = df['Date'].dt.to_period('M')\n",
    "\n",
    "df['Revenue'] = df['Daily Units Sold'] * df['Daily Unit Price']"
   ]
  },
  {
   "cell_type": "code",
   "execution_count": 195,
   "id": "090f1e17-7cb3-4d19-8366-2dd3e8e63a3c",
   "metadata": {},
   "outputs": [],
   "source": [
    "# Group by YearMonth to calculate monthly sales revenue and average temperature\n",
    "monthly_data = df.groupby('YearMonth').agg(\n",
    "    Monthly_Sales=('Revenue', 'sum'),\n",
    "    Avg_Temperature=('Daily Temperature (C)', 'mean')\n",
    ").reset_index()"
   ]
  },
  {
   "cell_type": "code",
   "execution_count": 205,
   "id": "c289655f-eb02-4296-ac0b-3beb7a8d2475",
   "metadata": {},
   "outputs": [
    {
     "data": {
      "text/html": [
       "<div>\n",
       "<style scoped>\n",
       "    .dataframe tbody tr th:only-of-type {\n",
       "        vertical-align: middle;\n",
       "    }\n",
       "\n",
       "    .dataframe tbody tr th {\n",
       "        vertical-align: top;\n",
       "    }\n",
       "\n",
       "    .dataframe thead th {\n",
       "        text-align: right;\n",
       "    }\n",
       "</style>\n",
       "<table border=\"1\" class=\"dataframe\">\n",
       "  <thead>\n",
       "    <tr style=\"text-align: right;\">\n",
       "      <th></th>\n",
       "      <th>YearMonth</th>\n",
       "      <th>Monthly_Sales</th>\n",
       "      <th>Avg_Temperature</th>\n",
       "    </tr>\n",
       "  </thead>\n",
       "  <tbody>\n",
       "    <tr>\n",
       "      <th>0</th>\n",
       "      <td>2024-01</td>\n",
       "      <td>66168.0</td>\n",
       "      <td>25.387097</td>\n",
       "    </tr>\n",
       "    <tr>\n",
       "      <th>1</th>\n",
       "      <td>2024-02</td>\n",
       "      <td>56752.5</td>\n",
       "      <td>24.103448</td>\n",
       "    </tr>\n",
       "    <tr>\n",
       "      <th>2</th>\n",
       "      <td>2024-03</td>\n",
       "      <td>53372.0</td>\n",
       "      <td>22.709677</td>\n",
       "    </tr>\n",
       "    <tr>\n",
       "      <th>3</th>\n",
       "      <td>2024-04</td>\n",
       "      <td>45795.0</td>\n",
       "      <td>20.033333</td>\n",
       "    </tr>\n",
       "    <tr>\n",
       "      <th>4</th>\n",
       "      <td>2024-05</td>\n",
       "      <td>42693.0</td>\n",
       "      <td>18.548387</td>\n",
       "    </tr>\n",
       "    <tr>\n",
       "      <th>5</th>\n",
       "      <td>2024-06</td>\n",
       "      <td>35793.0</td>\n",
       "      <td>15.433333</td>\n",
       "    </tr>\n",
       "    <tr>\n",
       "      <th>6</th>\n",
       "      <td>2024-07</td>\n",
       "      <td>35137.0</td>\n",
       "      <td>13.838710</td>\n",
       "    </tr>\n",
       "    <tr>\n",
       "      <th>7</th>\n",
       "      <td>2024-08</td>\n",
       "      <td>22200.0</td>\n",
       "      <td>16.225806</td>\n",
       "    </tr>\n",
       "  </tbody>\n",
       "</table>\n",
       "</div>"
      ],
      "text/plain": [
       "  YearMonth  Monthly_Sales  Avg_Temperature\n",
       "0   2024-01        66168.0        25.387097\n",
       "1   2024-02        56752.5        24.103448\n",
       "2   2024-03        53372.0        22.709677\n",
       "3   2024-04        45795.0        20.033333\n",
       "4   2024-05        42693.0        18.548387\n",
       "5   2024-06        35793.0        15.433333\n",
       "6   2024-07        35137.0        13.838710\n",
       "7   2024-08        22200.0        16.225806"
      ]
     },
     "execution_count": 205,
     "metadata": {},
     "output_type": "execute_result"
    }
   ],
   "source": [
    "monthly_data"
   ]
  },
  {
   "cell_type": "code",
   "execution_count": 201,
   "id": "9e93065b-b015-4b04-99a8-1c8c8e51a302",
   "metadata": {},
   "outputs": [],
   "source": [
    "# Filter the months where sales are below $40,000 directly using pandas\n",
    "below_40k = monthly_data[monthly_data['Monthly_Sales'] < 40000]"
   ]
  },
  {
   "cell_type": "code",
   "execution_count": 203,
   "id": "4123da53-b221-4127-b845-fc9a5309adbb",
   "metadata": {},
   "outputs": [
    {
     "data": {
      "text/html": [
       "<div>\n",
       "<style scoped>\n",
       "    .dataframe tbody tr th:only-of-type {\n",
       "        vertical-align: middle;\n",
       "    }\n",
       "\n",
       "    .dataframe tbody tr th {\n",
       "        vertical-align: top;\n",
       "    }\n",
       "\n",
       "    .dataframe thead th {\n",
       "        text-align: right;\n",
       "    }\n",
       "</style>\n",
       "<table border=\"1\" class=\"dataframe\">\n",
       "  <thead>\n",
       "    <tr style=\"text-align: right;\">\n",
       "      <th></th>\n",
       "      <th>YearMonth</th>\n",
       "      <th>Monthly_Sales</th>\n",
       "      <th>Avg_Temperature</th>\n",
       "    </tr>\n",
       "  </thead>\n",
       "  <tbody>\n",
       "    <tr>\n",
       "      <th>5</th>\n",
       "      <td>2024-06</td>\n",
       "      <td>35793.0</td>\n",
       "      <td>15.433333</td>\n",
       "    </tr>\n",
       "    <tr>\n",
       "      <th>6</th>\n",
       "      <td>2024-07</td>\n",
       "      <td>35137.0</td>\n",
       "      <td>13.838710</td>\n",
       "    </tr>\n",
       "    <tr>\n",
       "      <th>7</th>\n",
       "      <td>2024-08</td>\n",
       "      <td>22200.0</td>\n",
       "      <td>16.225806</td>\n",
       "    </tr>\n",
       "  </tbody>\n",
       "</table>\n",
       "</div>"
      ],
      "text/plain": [
       "  YearMonth  Monthly_Sales  Avg_Temperature\n",
       "5   2024-06        35793.0        15.433333\n",
       "6   2024-07        35137.0        13.838710\n",
       "7   2024-08        22200.0        16.225806"
      ]
     },
     "execution_count": 203,
     "metadata": {},
     "output_type": "execute_result"
    }
   ],
   "source": [
    "below_40k"
   ]
  },
  {
   "cell_type": "markdown",
   "id": "992e8cca-6911-4b26-a06f-c263f6e70ece",
   "metadata": {},
   "source": [
    "**2. print out this information for the company.**"
   ]
  },
  {
   "cell_type": "code",
   "execution_count": 207,
   "id": "416abde3-8dd6-4151-b45f-a7c1e8e308b9",
   "metadata": {},
   "outputs": [
    {
     "name": "stdout",
     "output_type": "stream",
     "text": [
      "Month: 2024-06, Sales Revenue: $35793.0, Average Temperature: 15.43°C\n",
      "Month: 2024-07, Sales Revenue: $35137.0, Average Temperature: 13.84°C\n",
      "Month: 2024-08, Sales Revenue: $22200.0, Average Temperature: 16.23°C\n"
     ]
    }
   ],
   "source": [
    "for index, row in below_40k.iterrows():\n",
    "    print(f\"Month: {row['YearMonth']}, Sales Revenue: ${row['Monthly_Sales']}, Average Temperature: {row['Avg_Temperature']:.2f}°C\")"
   ]
  },
  {
   "cell_type": "markdown",
   "id": "e92ff65a-bad3-4936-9e3c-f0ca7fd63f5e",
   "metadata": {},
   "source": [
    "**3. label each review as positive, neutral, or negative based on its compound score with SentimentIntensityAnalyzer and add a new column to the data frame calling it \"sentiment\"**"
   ]
  },
  {
   "cell_type": "code",
   "execution_count": 223,
   "id": "75122546-c25b-4760-8ec1-c9b878606e50",
   "metadata": {},
   "outputs": [],
   "source": [
    "import pandas as pd\n",
    "from nltk.sentiment.vader import SentimentIntensityAnalyzer\n",
    "import nltk"
   ]
  },
  {
   "cell_type": "code",
   "execution_count": 7,
   "id": "6d877ff1-8ac5-41b9-ae3e-b11f3f3e28e3",
   "metadata": {},
   "outputs": [],
   "source": [
    "df = pd.read_csv('water_product_reviews_500_actual_names (1).csv')"
   ]
  },
  {
   "cell_type": "code",
   "execution_count": 9,
   "id": "e6a2310a-a7a5-48da-9810-cf8ca7a2aafe",
   "metadata": {},
   "outputs": [
    {
     "data": {
      "text/html": [
       "<div>\n",
       "<style scoped>\n",
       "    .dataframe tbody tr th:only-of-type {\n",
       "        vertical-align: middle;\n",
       "    }\n",
       "\n",
       "    .dataframe tbody tr th {\n",
       "        vertical-align: top;\n",
       "    }\n",
       "\n",
       "    .dataframe thead th {\n",
       "        text-align: right;\n",
       "    }\n",
       "</style>\n",
       "<table border=\"1\" class=\"dataframe\">\n",
       "  <thead>\n",
       "    <tr style=\"text-align: right;\">\n",
       "      <th></th>\n",
       "      <th>Reviewer Name</th>\n",
       "      <th>Review Date</th>\n",
       "      <th>Rating</th>\n",
       "      <th>Review Text</th>\n",
       "    </tr>\n",
       "  </thead>\n",
       "  <tbody>\n",
       "    <tr>\n",
       "      <th>0</th>\n",
       "      <td>Owen White</td>\n",
       "      <td>2023-01-01</td>\n",
       "      <td>3</td>\n",
       "      <td>The product meets basic needs, but that's abou...</td>\n",
       "    </tr>\n",
       "    <tr>\n",
       "      <th>1</th>\n",
       "      <td>Bob Jenkins</td>\n",
       "      <td>2023-01-02</td>\n",
       "      <td>5</td>\n",
       "      <td>Very satisfied with this product, excellent qu...</td>\n",
       "    </tr>\n",
       "    <tr>\n",
       "      <th>2</th>\n",
       "      <td>Rachel Harris</td>\n",
       "      <td>2023-01-03</td>\n",
       "      <td>1</td>\n",
       "      <td>This product didn't meet my expectations; I wa...</td>\n",
       "    </tr>\n",
       "    <tr>\n",
       "      <th>3</th>\n",
       "      <td>Olivia Clark</td>\n",
       "      <td>2023-01-04</td>\n",
       "      <td>1</td>\n",
       "      <td>I had issues with bottles leaking, very dissat...</td>\n",
       "    </tr>\n",
       "    <tr>\n",
       "      <th>4</th>\n",
       "      <td>Violet Thompson</td>\n",
       "      <td>2023-01-05</td>\n",
       "      <td>1</td>\n",
       "      <td>This product didn't meet my expectations; I wa...</td>\n",
       "    </tr>\n",
       "  </tbody>\n",
       "</table>\n",
       "</div>"
      ],
      "text/plain": [
       "     Reviewer Name Review Date  Rating  \\\n",
       "0       Owen White  2023-01-01       3   \n",
       "1      Bob Jenkins  2023-01-02       5   \n",
       "2    Rachel Harris  2023-01-03       1   \n",
       "3     Olivia Clark  2023-01-04       1   \n",
       "4  Violet Thompson  2023-01-05       1   \n",
       "\n",
       "                                         Review Text  \n",
       "0  The product meets basic needs, but that's abou...  \n",
       "1  Very satisfied with this product, excellent qu...  \n",
       "2  This product didn't meet my expectations; I wa...  \n",
       "3  I had issues with bottles leaking, very dissat...  \n",
       "4  This product didn't meet my expectations; I wa...  "
      ]
     },
     "execution_count": 9,
     "metadata": {},
     "output_type": "execute_result"
    }
   ],
   "source": [
    "df.head()"
   ]
  },
  {
   "cell_type": "code",
   "execution_count": 227,
   "id": "5d84556d-0265-4422-8894-04d443589a35",
   "metadata": {},
   "outputs": [],
   "source": [
    "# Initialize SentimentIntensityAnalyzer\n",
    "sia = SentimentIntensityAnalyzer()"
   ]
  },
  {
   "cell_type": "code",
   "execution_count": 275,
   "id": "0ef5b63d-289b-4e72-abb7-e0cb7aa608cb",
   "metadata": {},
   "outputs": [],
   "source": [
    "# Function to calculate sentiment based on the compound score\n",
    "def get_sentiment(review):\n",
    "    score = sia.polarity_scores(review)['compound']\n",
    "    if score >= 0.05:\n",
    "        return 'positive'\n",
    "    elif score <= -0.05:\n",
    "        return 'negative'\n",
    "    else:\n",
    "        return 'neutral'"
   ]
  },
  {
   "cell_type": "code",
   "execution_count": 277,
   "id": "5f41d7d9-101c-4f7b-a0b3-4e5f72bb94e9",
   "metadata": {},
   "outputs": [],
   "source": [
    "# Apply the sentiment analysis to each review and create a new column 'sentiment'\n",
    "df['sentiment'] = df['Review Text'].apply(get_sentiment)"
   ]
  },
  {
   "cell_type": "code",
   "execution_count": 279,
   "id": "333d600d-0f8a-4a69-8778-7e18a3eff88a",
   "metadata": {},
   "outputs": [
    {
     "name": "stdout",
     "output_type": "stream",
     "text": [
      "     Reviewer Name Review Date  Rating  \\\n",
      "0       Owen White  2023-01-01       3   \n",
      "1      Bob Jenkins  2023-01-02       5   \n",
      "2    Rachel Harris  2023-01-03       1   \n",
      "3     Olivia Clark  2023-01-04       1   \n",
      "4  Violet Thompson  2023-01-05       1   \n",
      "\n",
      "                                         Review Text sentiment YearMonth  \n",
      "0  The product meets basic needs, but that's abou...   neutral   2023-01  \n",
      "1  Very satisfied with this product, excellent qu...  positive   2023-01  \n",
      "2  This product didn't meet my expectations; I wa...  negative   2023-01  \n",
      "3  I had issues with bottles leaking, very dissat...  negative   2023-01  \n",
      "4  This product didn't meet my expectations; I wa...  negative   2023-01  \n"
     ]
    }
   ],
   "source": [
    "# Display the dataframe with the new sentiment column\n",
    "print(df.head())"
   ]
  },
  {
   "cell_type": "markdown",
   "id": "134e8ed7-60f5-4c65-9ad5-ee7b5f2eaab8",
   "metadata": {},
   "source": [
    "**4. calculate the average rating of the reviews for each review category (i.e., positive, neutral, and negative)**"
   ]
  },
  {
   "cell_type": "code",
   "execution_count": 243,
   "id": "e5478858-6fcd-4684-83e7-64aef95ef017",
   "metadata": {},
   "outputs": [],
   "source": [
    "# Group by the 'sentiment' column and calculate the average rating for each group\n",
    "average_ratings = df.groupby('sentiment')['Rating'].mean().reset_index()"
   ]
  },
  {
   "cell_type": "code",
   "execution_count": 245,
   "id": "e72b686e-ebff-4598-84ce-c1d3a27ad434",
   "metadata": {},
   "outputs": [
    {
     "name": "stdout",
     "output_type": "stream",
     "text": [
      "  Sentiment  Average Rating\n",
      "0  negative        1.451923\n",
      "1   neutral        3.000000\n",
      "2  positive        4.187500\n"
     ]
    }
   ],
   "source": [
    "# Rename columns for clarity\n",
    "average_ratings.columns = ['Sentiment', 'Average Rating']\n",
    "# Display the results\n",
    "print(average_ratings)"
   ]
  },
  {
   "cell_type": "markdown",
   "id": "fc14ab63-2cb5-445f-98bd-6a4cf3cb646a",
   "metadata": {},
   "source": [
    "**5. summarize the total number of positive, neutral, and negative reviews for each month**"
   ]
  },
  {
   "cell_type": "code",
   "execution_count": 247,
   "id": "a3235e6d-0ad5-4ca8-b22f-adc7327d2c10",
   "metadata": {},
   "outputs": [],
   "source": [
    "# Ensure the Date column is in datetime format\n",
    "df['Review Date'] = pd.to_datetime(df['Review Date'])"
   ]
  },
  {
   "cell_type": "code",
   "execution_count": 249,
   "id": "8bd34d5f-8e20-4344-ac2a-4bc41afdb4e2",
   "metadata": {},
   "outputs": [],
   "source": [
    "# Extract YearMonth from the Review Date\n",
    "df['YearMonth'] = df['Review Date'].dt.to_period('M')"
   ]
  },
  {
   "cell_type": "code",
   "execution_count": 251,
   "id": "1293d022-cfb1-4805-b08c-51da35c3b1ad",
   "metadata": {},
   "outputs": [],
   "source": [
    "# Group by YearMonth and sentiment, and count the number of reviews in each group\n",
    "monthly_sentiment_counts = df.groupby(['YearMonth', 'sentiment']).size().unstack(fill_value=0).reset_index()"
   ]
  },
  {
   "cell_type": "code",
   "execution_count": 253,
   "id": "93bf0ec8-1e80-494c-8c05-c6c5ae0fb094",
   "metadata": {},
   "outputs": [
    {
     "name": "stdout",
     "output_type": "stream",
     "text": [
      "sentiment YearMonth  negative  neutral  positive\n",
      "0           2023-01        13        3        15\n",
      "1           2023-02        14        4        10\n",
      "2           2023-03        10        3        18\n",
      "3           2023-04         6        2        22\n",
      "4           2023-05        19        0        12\n",
      "5           2023-06        11        1        18\n",
      "6           2023-07        17        3        11\n",
      "7           2023-08        13        2        16\n",
      "8           2023-09        19        0        11\n",
      "9           2023-10         9        3        19\n",
      "10          2023-11        11        1        18\n",
      "11          2023-12        16        2        13\n",
      "12          2024-01        16        1        14\n",
      "13          2024-02        11        2        16\n",
      "14          2024-03        10        4        17\n",
      "15          2024-04        10        0        20\n",
      "16          2024-05         3        5         6\n"
     ]
    }
   ],
   "source": [
    "# Display the result\n",
    "print(monthly_sentiment_counts)"
   ]
  },
  {
   "cell_type": "markdown",
   "id": "b8fcb97a-edb0-4307-972d-7c3d86e088e9",
   "metadata": {},
   "source": [
    "**6. calculate the average rating of the reviews for each month**"
   ]
  },
  {
   "cell_type": "code",
   "execution_count": 255,
   "id": "157beb4f-e8ed-4888-aab1-3e07f7eff5d5",
   "metadata": {},
   "outputs": [],
   "source": [
    "# Ensure the 'Review Date' is in datetime format\n",
    "df['Review Date'] = pd.to_datetime(df['Review Date'])\n",
    "\n",
    "# Extract YearMonth from the Review Date\n",
    "df['YearMonth'] = df['Review Date'].dt.to_period('M')"
   ]
  },
  {
   "cell_type": "code",
   "execution_count": 267,
   "id": "06432e01-7c3c-402d-a879-f6aa7cc479ed",
   "metadata": {},
   "outputs": [],
   "source": [
    "# Group by YearMonth and calculate the average rating for each month\n",
    "monthly_average_ratings = df.groupby('YearMonth')['Rating'].mean().reset_index()\n",
    "\n",
    "# Rename columns for clarity\n",
    "monthly_average_ratings.columns = ['Month', 'Average Rating']"
   ]
  },
  {
   "cell_type": "code",
   "execution_count": 269,
   "id": "e8ec1db9-1ead-4112-8510-64687643e87b",
   "metadata": {},
   "outputs": [
    {
     "name": "stdout",
     "output_type": "stream",
     "text": [
      "      Month  Average Rating\n",
      "0   2023-01        2.870968\n",
      "1   2023-02        2.785714\n",
      "2   2023-03        3.290323\n",
      "3   2023-04        3.600000\n",
      "4   2023-05        2.387097\n",
      "5   2023-06        3.133333\n",
      "6   2023-07        2.741935\n",
      "7   2023-08        3.096774\n",
      "8   2023-09        2.400000\n",
      "9   2023-10        3.258065\n",
      "10  2023-11        3.233333\n",
      "11  2023-12        2.419355\n",
      "12  2024-01        2.741935\n",
      "13  2024-02        3.034483\n",
      "14  2024-03        3.129032\n",
      "15  2024-04        3.233333\n",
      "16  2024-05        3.142857\n"
     ]
    }
   ],
   "source": [
    "# Display the result\n",
    "print(monthly_average_ratings)"
   ]
  },
  {
   "cell_type": "code",
   "execution_count": 271,
   "id": "c3272400-9744-430d-93d1-534c5ecabfa4",
   "metadata": {},
   "outputs": [
    {
     "data": {
      "text/html": [
       "<div>\n",
       "<style scoped>\n",
       "    .dataframe tbody tr th:only-of-type {\n",
       "        vertical-align: middle;\n",
       "    }\n",
       "\n",
       "    .dataframe tbody tr th {\n",
       "        vertical-align: top;\n",
       "    }\n",
       "\n",
       "    .dataframe thead th {\n",
       "        text-align: right;\n",
       "    }\n",
       "</style>\n",
       "<table border=\"1\" class=\"dataframe\">\n",
       "  <thead>\n",
       "    <tr style=\"text-align: right;\">\n",
       "      <th></th>\n",
       "      <th>Reviewer Name</th>\n",
       "      <th>Review Date</th>\n",
       "      <th>Rating</th>\n",
       "      <th>Review Text</th>\n",
       "      <th>sentiment</th>\n",
       "      <th>YearMonth</th>\n",
       "    </tr>\n",
       "  </thead>\n",
       "  <tbody>\n",
       "    <tr>\n",
       "      <th>0</th>\n",
       "      <td>Owen White</td>\n",
       "      <td>2023-01-01</td>\n",
       "      <td>3</td>\n",
       "      <td>The product meets basic needs, but that's abou...</td>\n",
       "      <td>neutral</td>\n",
       "      <td>2023-01</td>\n",
       "    </tr>\n",
       "    <tr>\n",
       "      <th>1</th>\n",
       "      <td>Bob Jenkins</td>\n",
       "      <td>2023-01-02</td>\n",
       "      <td>5</td>\n",
       "      <td>Very satisfied with this product, excellent qu...</td>\n",
       "      <td>positive</td>\n",
       "      <td>2023-01</td>\n",
       "    </tr>\n",
       "    <tr>\n",
       "      <th>2</th>\n",
       "      <td>Rachel Harris</td>\n",
       "      <td>2023-01-03</td>\n",
       "      <td>1</td>\n",
       "      <td>This product didn't meet my expectations; I wa...</td>\n",
       "      <td>negative</td>\n",
       "      <td>2023-01</td>\n",
       "    </tr>\n",
       "    <tr>\n",
       "      <th>3</th>\n",
       "      <td>Olivia Clark</td>\n",
       "      <td>2023-01-04</td>\n",
       "      <td>1</td>\n",
       "      <td>I had issues with bottles leaking, very dissat...</td>\n",
       "      <td>negative</td>\n",
       "      <td>2023-01</td>\n",
       "    </tr>\n",
       "    <tr>\n",
       "      <th>4</th>\n",
       "      <td>Violet Thompson</td>\n",
       "      <td>2023-01-05</td>\n",
       "      <td>1</td>\n",
       "      <td>This product didn't meet my expectations; I wa...</td>\n",
       "      <td>negative</td>\n",
       "      <td>2023-01</td>\n",
       "    </tr>\n",
       "  </tbody>\n",
       "</table>\n",
       "</div>"
      ],
      "text/plain": [
       "     Reviewer Name Review Date  Rating  \\\n",
       "0       Owen White  2023-01-01       3   \n",
       "1      Bob Jenkins  2023-01-02       5   \n",
       "2    Rachel Harris  2023-01-03       1   \n",
       "3     Olivia Clark  2023-01-04       1   \n",
       "4  Violet Thompson  2023-01-05       1   \n",
       "\n",
       "                                         Review Text sentiment YearMonth  \n",
       "0  The product meets basic needs, but that's abou...   neutral   2023-01  \n",
       "1  Very satisfied with this product, excellent qu...  positive   2023-01  \n",
       "2  This product didn't meet my expectations; I wa...  negative   2023-01  \n",
       "3  I had issues with bottles leaking, very dissat...  negative   2023-01  \n",
       "4  This product didn't meet my expectations; I wa...  negative   2023-01  "
      ]
     },
     "execution_count": 271,
     "metadata": {},
     "output_type": "execute_result"
    }
   ],
   "source": [
    "df.head()"
   ]
  },
  {
   "cell_type": "markdown",
   "id": "eaba44d0-925f-4314-a453-8a7358b41d98",
   "metadata": {},
   "source": [
    "**7. write your data frame that has the sentiment column to a csv file called \"YourLastName_YourFirstName_sentiment.csv\"**"
   ]
  },
  {
   "cell_type": "code",
   "execution_count": 273,
   "id": "91684130-b23d-4013-99d1-4508ffffda94",
   "metadata": {},
   "outputs": [],
   "source": [
    "df.to_csv('Hsieh_Luna_sentiment.csv', index=False)"
   ]
  },
  {
   "cell_type": "markdown",
   "id": "ba7aeabd-da42-4e55-9de8-688a124faae1",
   "metadata": {},
   "source": [
    "### Summary"
   ]
  },
  {
   "cell_type": "markdown",
   "id": "e6bb0bae-d4fc-4cda-bfad-e6b5c06a6219",
   "metadata": {},
   "source": [
    "* Monthly Sales Revenue and Temperature: The monthly sales revenue below `$40,000` and corresponding average temperatures were identified, giving an understanding of how external conditions like temperature might influence customer purchases. Specifically, the sales revenue for months below `$40,000` ranged from `$22,200` to `$35,793` with average temperatures between 13.84°C and 16.23°C. This suggests that external factors, such as temperature, could play a role in influencing sales performance.\n",
    "\n",
    "* Sentiment Analysis of Reviews: Reviews were categorized into positive, neutral, and negative based on the compound score from the Sentiment Intensity Analyzer, providing a breakdown of customer sentiment for WaterPro’s product. For example, the top 10 lowest-rated reviews often mention product leaks or unmet expectations, while the top 10 highest-rated reviews praise the product’s value and taste.\n",
    "\n",
    "* Average Rating by Sentiment: For each sentiment category, the average rating was calculated, offering insight into how ratings align with customer sentiments. Positive reviews had an average rating of 4.19, while negative reviews averaged at 1.45, showing a clear correlation between sentiment and rating.\n",
    "\n",
    "* Review Distribution by Month and Sentiment: The total number of positive, neutral, and negative reviews was summarized for each month, providing a temporal view of customer feedback trends. The number of reviews ranged from 0 to 19 for any given sentiment in a month.\n",
    "\n",
    "* Monthly Average Ratings: The average rating for each month was calculated to assess overall customer satisfaction over time. Fluctuations in average ratings by month indicate that customer satisfaction varies, with notable dips in months where negative reviews spiked."
   ]
  },
  {
   "cell_type": "markdown",
   "id": "30947672-90a5-4be5-998e-2f50acfbda28",
   "metadata": {},
   "source": [
    "### Interpretation"
   ]
  },
  {
   "cell_type": "markdown",
   "id": "07298f2b-a7ee-4094-9316-88ada95cc380",
   "metadata": {},
   "source": [
    "* Sales and External Factors: The months with sales below $40,000 often coincided with either warmer or cooler temperatures. This suggests that customer behavior may be influenced by environmental factors, especially if the product is seasonal or climate-sensitive.\n",
    "\n",
    "* Customer Sentiment Analysis: The sentiment analysis reveals that a significant proportion of reviews are either neutral or negative, despite some positive feedback. This suggests there may be aspects of the product or service that are not meeting customer expectations, leading to dissatisfaction or ambivalence.\n",
    "\n",
    "* Average Rating by Sentiment: The ratings strongly correlate with the sentiment categories, as expected. Positive reviews tend to have high ratings, while negative reviews have lower ones. Neutral reviews are generally accompanied by mid-range ratings, indicating moderate satisfaction or mixed opinions.\n",
    "\n",
    "* Trends in Customer Feedback: The distribution of sentiment across months may show seasonal patterns in customer satisfaction or reflect periods when product issues or improvements occurred. For example, a spike in negative reviews in May and September 2023 could signal product flaws or poor service during those periods, which may require targeted investigation.\n",
    "\n",
    "* Monthly Ratings: The fluctuations in average ratings by month indicate that customer satisfaction varies over time. Identifying trends in these ratings can help WaterPro understand when and why customer satisfaction dips, which could inform product or service improvements."
   ]
  }
 ],
 "metadata": {
  "kernelspec": {
   "display_name": "Python 3 (ipykernel)",
   "language": "python",
   "name": "python3"
  },
  "language_info": {
   "codemirror_mode": {
    "name": "ipython",
    "version": 3
   },
   "file_extension": ".py",
   "mimetype": "text/x-python",
   "name": "python",
   "nbconvert_exporter": "python",
   "pygments_lexer": "ipython3",
   "version": "3.12.4"
  }
 },
 "nbformat": 4,
 "nbformat_minor": 5
}
