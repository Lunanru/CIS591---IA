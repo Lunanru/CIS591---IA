{
 "cells": [
  {
   "cell_type": "markdown",
   "id": "fe94ae52",
   "metadata": {},
   "source": []
  },
  {
   "cell_type": "markdown",
   "id": "f6507b94",
   "metadata": {},
   "source": []
  },
  {
   "cell_type": "markdown",
   "id": "9559f015",
   "metadata": {},
   "source": [
    "# Pseudo-code\n",
    "1. Load Data:\n",
    "\n",
    "* Define the target sales for the year (Year_Target_Sales).\n",
    "\n",
    "* Define the unit price of the product (Unit_Price).\n",
    "\n",
    "* Define the sales revenue for the past seven months (Past_Seven_Months).\n",
    "\n",
    "\n",
    "2. Basic Calculation:\n",
    "\n",
    "* Calculate the total sales revenue for August:\n",
    "\n",
    "* Multiply the number of units sold in August by the unit price to determine the total August sales (August_Sales).\n",
    "\n",
    "* Calculate the cumulative sales for the year so far:\n",
    "\n",
    "* Add the total August sales to the past seven months' sales (Total).\n",
    "\n",
    "* Determine the remaining units needed to meet the annual target:\n",
    "\n",
    "* Subtract the cumulative sales from the year target sales, then divide by the unit price (Remain).\n",
    "\n",
    "\n",
    "3. Generate Report:\n",
    "\n",
    "* Display the sales revenue for August.\n",
    "\n",
    "* Display the number of units that need to be sold in the remaining months to meet the annual sales target.\n"
   ]
  },
  {
   "cell_type": "code",
   "execution_count": 2,
   "id": "89f8e2f3",
   "metadata": {},
   "outputs": [
    {
     "name": "stdout",
     "output_type": "stream",
     "text": [
      "Sales revenue for August : 22200.00\n",
      " 19936  units need to be sold in the remaining months to meet the target of the year\n"
     ]
    }
   ],
   "source": [
    "# Constants\n",
    "Year_Target_Sales = 800000\n",
    "\n",
    "Unit_Price = 22.2\n",
    "# Variables\n",
    "Past_Seven_Months = 335220\n",
    "\n",
    "# Calculations\n",
    "August_Sales = 1000 * Unit_Price\n",
    "\n",
    "Total = Past_Seven_Months + August_Sales\n",
    "\n",
    "Remain = (Year_Target_Sales - Total )/Unit_Price\n",
    "\n",
    "# Sales Report\n",
    "print(f\"Sales revenue for August : {August_Sales:.2f}\")\n",
    "print(f\"{Remain: .0f}  units need to be sold in the remaining months to meet the target of the year\")\n"
   ]
  },
  {
   "cell_type": "code",
   "execution_count": null,
   "id": "41733015",
   "metadata": {},
   "outputs": [],
   "source": []
  },
  {
   "cell_type": "code",
   "execution_count": null,
   "id": "19839cb4",
   "metadata": {},
   "outputs": [],
   "source": []
  },
  {
   "cell_type": "code",
   "execution_count": null,
   "id": "eb29628f",
   "metadata": {},
   "outputs": [],
   "source": []
  },
  {
   "cell_type": "code",
   "execution_count": null,
   "id": "3137f151",
   "metadata": {},
   "outputs": [],
   "source": []
  },
  {
   "cell_type": "code",
   "execution_count": null,
   "id": "50b7782d",
   "metadata": {},
   "outputs": [],
   "source": []
  }
 ],
 "metadata": {
  "kernelspec": {
   "display_name": "Python 3 (ipykernel)",
   "language": "python",
   "name": "python3"
  },
  "language_info": {
   "codemirror_mode": {
    "name": "ipython",
    "version": 3
   },
   "file_extension": ".py",
   "mimetype": "text/x-python",
   "name": "python",
   "nbconvert_exporter": "python",
   "pygments_lexer": "ipython3",
   "version": "3.9.19"
  }
 },
 "nbformat": 4,
 "nbformat_minor": 5
}
