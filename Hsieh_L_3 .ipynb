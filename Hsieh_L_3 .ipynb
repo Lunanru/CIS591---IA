{
 "cells": [
  {
   "cell_type": "markdown",
   "id": "02764b32",
   "metadata": {},
   "source": [
    "### Background Information\n",
    "As a business analyst, I found a strong positive correlation between the sales of two different products: BobaWonder (bubble tea) and WaterCure (premium water). This result puzzled the company, as the two products cater to different customer bases. I suspect that the high sales of both products could be linked to external factors, like the warm Australian climate. To explore this further, I am provided with daily sales data for WaterCure and daily temperature data from January to August 2024, with the goal of determining whether temperature influences product sales."
   ]
  },
  {
   "cell_type": "code",
   "execution_count": null,
   "id": "6dc92bf0",
   "metadata": {},
   "outputs": [],
   "source": []
  },
  {
   "cell_type": "code",
   "execution_count": 4,
   "id": "fde0629a",
   "metadata": {},
   "outputs": [],
   "source": [
    "# identify the data type and what you wanna do ?"
   ]
  },
  {
   "cell_type": "code",
   "execution_count": 3,
   "id": "9bf512d0",
   "metadata": {},
   "outputs": [],
   "source": []
  },
  {
   "cell_type": "markdown",
   "id": "0b184459",
   "metadata": {},
   "source": [
    "### 1. Get a summary of the daily sales and daily temperature (i.e., the count, mean, standard deviation, minimum, maximum, ... etc. ) and interpret the summary in the Markdown or Text Cell (e.g., what does maximum mean for the daily temperature field?) after the code"
   ]
  },
  {
   "cell_type": "code",
   "execution_count": 17,
   "id": "5cffa421",
   "metadata": {},
   "outputs": [],
   "source": [
    "import pandas as pd\n",
    "\n"
   ]
  },
  {
   "cell_type": "code",
   "execution_count": 32,
   "id": "8fc8db06",
   "metadata": {},
   "outputs": [
    {
     "name": "stdout",
     "output_type": "stream",
     "text": [
      "Hsieh_L_1.ipynb                    WaterCure_analysis_Hsieh_Luna.csv\r\n",
      "Hsieh_L_2.ipynb                    daily_sales.csv\r\n",
      "Hsieh_L_3.ipynb                    hw1-q.pptx\r\n"
     ]
    }
   ],
   "source": [
    "ls"
   ]
  },
  {
   "cell_type": "code",
   "execution_count": 34,
   "id": "be39c754",
   "metadata": {},
   "outputs": [],
   "source": [
    "df= pd.read_csv ('daily_sales.csv',skiprows = 2)"
   ]
  },
  {
   "cell_type": "code",
   "execution_count": 36,
   "id": "65f8f890",
   "metadata": {
    "scrolled": true
   },
   "outputs": [
    {
     "data": {
      "text/html": [
       "<div>\n",
       "<style scoped>\n",
       "    .dataframe tbody tr th:only-of-type {\n",
       "        vertical-align: middle;\n",
       "    }\n",
       "\n",
       "    .dataframe tbody tr th {\n",
       "        vertical-align: top;\n",
       "    }\n",
       "\n",
       "    .dataframe thead th {\n",
       "        text-align: right;\n",
       "    }\n",
       "</style>\n",
       "<table border=\"1\" class=\"dataframe\">\n",
       "  <thead>\n",
       "    <tr style=\"text-align: right;\">\n",
       "      <th></th>\n",
       "      <th>Date</th>\n",
       "      <th>Daily Units Sold</th>\n",
       "      <th>Daily Unit Price</th>\n",
       "      <th>Daily Temperature (C)</th>\n",
       "    </tr>\n",
       "  </thead>\n",
       "  <tbody>\n",
       "    <tr>\n",
       "      <th>0</th>\n",
       "      <td>1/1/2024</td>\n",
       "      <td>91</td>\n",
       "      <td>24.0</td>\n",
       "      <td>25</td>\n",
       "    </tr>\n",
       "    <tr>\n",
       "      <th>1</th>\n",
       "      <td>1/2/2024</td>\n",
       "      <td>90</td>\n",
       "      <td>24.0</td>\n",
       "      <td>24</td>\n",
       "    </tr>\n",
       "    <tr>\n",
       "      <th>2</th>\n",
       "      <td>1/3/2024</td>\n",
       "      <td>70</td>\n",
       "      <td>24.0</td>\n",
       "      <td>19</td>\n",
       "    </tr>\n",
       "    <tr>\n",
       "      <th>3</th>\n",
       "      <td>1/4/2024</td>\n",
       "      <td>89</td>\n",
       "      <td>24.0</td>\n",
       "      <td>23</td>\n",
       "    </tr>\n",
       "    <tr>\n",
       "      <th>4</th>\n",
       "      <td>1/5/2024</td>\n",
       "      <td>100</td>\n",
       "      <td>24.0</td>\n",
       "      <td>36</td>\n",
       "    </tr>\n",
       "  </tbody>\n",
       "</table>\n",
       "</div>"
      ],
      "text/plain": [
       "       Date  Daily Units Sold  Daily Unit Price  Daily Temperature (C)\n",
       "0  1/1/2024                91              24.0                     25\n",
       "1  1/2/2024                90              24.0                     24\n",
       "2  1/3/2024                70              24.0                     19\n",
       "3  1/4/2024                89              24.0                     23\n",
       "4  1/5/2024               100              24.0                     36"
      ]
     },
     "execution_count": 36,
     "metadata": {},
     "output_type": "execute_result"
    }
   ],
   "source": [
    "df.head()"
   ]
  },
  {
   "cell_type": "code",
   "execution_count": 37,
   "id": "17e328d1",
   "metadata": {},
   "outputs": [
    {
     "data": {
      "text/html": [
       "<div>\n",
       "<style scoped>\n",
       "    .dataframe tbody tr th:only-of-type {\n",
       "        vertical-align: middle;\n",
       "    }\n",
       "\n",
       "    .dataframe tbody tr th {\n",
       "        vertical-align: top;\n",
       "    }\n",
       "\n",
       "    .dataframe thead th {\n",
       "        text-align: right;\n",
       "    }\n",
       "</style>\n",
       "<table border=\"1\" class=\"dataframe\">\n",
       "  <thead>\n",
       "    <tr style=\"text-align: right;\">\n",
       "      <th></th>\n",
       "      <th>Date</th>\n",
       "      <th>Daily Units Sold</th>\n",
       "      <th>Daily Unit Price</th>\n",
       "      <th>Daily Temperature (C)</th>\n",
       "    </tr>\n",
       "  </thead>\n",
       "  <tbody>\n",
       "    <tr>\n",
       "      <th>239</th>\n",
       "      <td>8/27/2024</td>\n",
       "      <td>29</td>\n",
       "      <td>22.2</td>\n",
       "      <td>16</td>\n",
       "    </tr>\n",
       "    <tr>\n",
       "      <th>240</th>\n",
       "      <td>8/28/2024</td>\n",
       "      <td>59</td>\n",
       "      <td>22.2</td>\n",
       "      <td>21</td>\n",
       "    </tr>\n",
       "    <tr>\n",
       "      <th>241</th>\n",
       "      <td>8/29/2024</td>\n",
       "      <td>33</td>\n",
       "      <td>22.2</td>\n",
       "      <td>17</td>\n",
       "    </tr>\n",
       "    <tr>\n",
       "      <th>242</th>\n",
       "      <td>8/30/2024</td>\n",
       "      <td>33</td>\n",
       "      <td>22.2</td>\n",
       "      <td>17</td>\n",
       "    </tr>\n",
       "    <tr>\n",
       "      <th>243</th>\n",
       "      <td>8/31/2024</td>\n",
       "      <td>37</td>\n",
       "      <td>22.2</td>\n",
       "      <td>18</td>\n",
       "    </tr>\n",
       "  </tbody>\n",
       "</table>\n",
       "</div>"
      ],
      "text/plain": [
       "          Date  Daily Units Sold  Daily Unit Price  Daily Temperature (C)\n",
       "239  8/27/2024                29              22.2                     16\n",
       "240  8/28/2024                59              22.2                     21\n",
       "241  8/29/2024                33              22.2                     17\n",
       "242  8/30/2024                33              22.2                     17\n",
       "243  8/31/2024                37              22.2                     18"
      ]
     },
     "execution_count": 37,
     "metadata": {},
     "output_type": "execute_result"
    }
   ],
   "source": [
    "df.tail()"
   ]
  },
  {
   "cell_type": "code",
   "execution_count": 38,
   "id": "a810aa6d",
   "metadata": {
    "scrolled": true
   },
   "outputs": [
    {
     "data": {
      "text/html": [
       "<div>\n",
       "<style scoped>\n",
       "    .dataframe tbody tr th:only-of-type {\n",
       "        vertical-align: middle;\n",
       "    }\n",
       "\n",
       "    .dataframe tbody tr th {\n",
       "        vertical-align: top;\n",
       "    }\n",
       "\n",
       "    .dataframe thead th {\n",
       "        text-align: right;\n",
       "    }\n",
       "</style>\n",
       "<table border=\"1\" class=\"dataframe\">\n",
       "  <thead>\n",
       "    <tr style=\"text-align: right;\">\n",
       "      <th></th>\n",
       "      <th>Daily Units Sold</th>\n",
       "      <th>Daily Unit Price</th>\n",
       "      <th>Daily Temperature (C)</th>\n",
       "    </tr>\n",
       "  </thead>\n",
       "  <tbody>\n",
       "    <tr>\n",
       "      <th>count</th>\n",
       "      <td>244.000000</td>\n",
       "      <td>244.000000</td>\n",
       "      <td>244.000000</td>\n",
       "    </tr>\n",
       "    <tr>\n",
       "      <th>mean</th>\n",
       "      <td>66.479508</td>\n",
       "      <td>21.894262</td>\n",
       "      <td>19.512295</td>\n",
       "    </tr>\n",
       "    <tr>\n",
       "      <th>std</th>\n",
       "      <td>19.003021</td>\n",
       "      <td>1.223084</td>\n",
       "      <td>5.374442</td>\n",
       "    </tr>\n",
       "    <tr>\n",
       "      <th>min</th>\n",
       "      <td>11.000000</td>\n",
       "      <td>20.500000</td>\n",
       "      <td>7.000000</td>\n",
       "    </tr>\n",
       "    <tr>\n",
       "      <th>25%</th>\n",
       "      <td>57.000000</td>\n",
       "      <td>20.875000</td>\n",
       "      <td>16.000000</td>\n",
       "    </tr>\n",
       "    <tr>\n",
       "      <th>50%</th>\n",
       "      <td>63.500000</td>\n",
       "      <td>21.750000</td>\n",
       "      <td>19.000000</td>\n",
       "    </tr>\n",
       "    <tr>\n",
       "      <th>75%</th>\n",
       "      <td>81.250000</td>\n",
       "      <td>22.200000</td>\n",
       "      <td>23.000000</td>\n",
       "    </tr>\n",
       "    <tr>\n",
       "      <th>max</th>\n",
       "      <td>100.000000</td>\n",
       "      <td>24.000000</td>\n",
       "      <td>36.000000</td>\n",
       "    </tr>\n",
       "  </tbody>\n",
       "</table>\n",
       "</div>"
      ],
      "text/plain": [
       "       Daily Units Sold  Daily Unit Price  Daily Temperature (C)\n",
       "count        244.000000        244.000000             244.000000\n",
       "mean          66.479508         21.894262              19.512295\n",
       "std           19.003021          1.223084               5.374442\n",
       "min           11.000000         20.500000               7.000000\n",
       "25%           57.000000         20.875000              16.000000\n",
       "50%           63.500000         21.750000              19.000000\n",
       "75%           81.250000         22.200000              23.000000\n",
       "max          100.000000         24.000000              36.000000"
      ]
     },
     "execution_count": 38,
     "metadata": {},
     "output_type": "execute_result"
    }
   ],
   "source": [
    "df.describe()"
   ]
  },
  {
   "cell_type": "markdown",
   "id": "ba062e7d",
   "metadata": {},
   "source": [
    "### Summary of Daily Sales and Temperature Data\n",
    "\n",
    "#### 1. Daily Units Sold:\n",
    "- Count: Data for 244 days.\n",
    "- Mean (Average): About 66 units sold per day on average.\n",
    "- Standard Deviation: Sales vary by around 19 units daily.\n",
    "- Minimum: The lowest number of units sold in a day was 11.\n",
    "- Maximum: The highest number of units sold in a day was 100.\n",
    "- Percentiles:\n",
    "  - 25% of the days had sales of 57 units or fewer.\n",
    "  - Half the days (median) had sales of 63.5 units.\n",
    "  - 75% of the days had sales of 81 units or fewer.\n",
    "\n",
    "#### 2. Daily Unit Price:\n",
    "- Mean: The average price per unit was about 21.89.\n",
    "- Standard Deviation: Prices varied slightly by about 1.22.\n",
    "- Minimum: The lowest price was 20.5.\n",
    "- Maximum: The highest price was 24.\n",
    "- Percentiles:\n",
    "  - 25% of the days had prices below 20.875.\n",
    "  - The median price was 21.75.\n",
    "  - 75% of the days had prices below 22.2.\n",
    "\n",
    "#### 3. Daily Temperature (°C):\n",
    "- Mean: The average temperature was about 19.5°C.\n",
    "- Standard Deviation: Temperature fluctuated by around 5.37°C.\n",
    "- Minimum: The coldest day was 7°C.\n",
    "- Maximum: The hottest day was 36°C.\n",
    "- Percentiles:\n",
    "  - 25% of the days were cooler than 16°C.\n",
    "  - The median temperature was 19°C.\n",
    "  - 75% of the days were cooler than 23°C.\n",
    "\n",
    "### Key:\n",
    "- Maximum Temperature (36°C): This was the hottest day recorded, possibly affecting sales patterns.\n",
    "- Minimum Sales (11 units): The lowest sales occurred on one day, which could be due to external factors like bad weather or low demand.\n"
   ]
  },
  {
   "cell_type": "code",
   "execution_count": null,
   "id": "807ec838",
   "metadata": {
    "scrolled": true
   },
   "outputs": [],
   "source": [
    "\n"
   ]
  },
  {
   "cell_type": "markdown",
   "id": "07a3e12a",
   "metadata": {},
   "source": [
    "### 2. Use the Pearson Correlation function to examine the correlation relationship between daily sold units and daily temperature and interpret the result in the Markdown or Text Cell after the code\n",
    "\n"
   ]
  },
  {
   "cell_type": "code",
   "execution_count": 1,
   "id": "40f4d3f9",
   "metadata": {},
   "outputs": [],
   "source": [
    "import scipy.stats"
   ]
  },
  {
   "cell_type": "code",
   "execution_count": null,
   "id": "325ba78a",
   "metadata": {},
   "outputs": [],
   "source": []
  },
  {
   "cell_type": "code",
   "execution_count": 22,
   "id": "71c05b20",
   "metadata": {},
   "outputs": [],
   "source": [
    "# Extract the two columns\n",
    "units_sold = df['Daily Units Sold']\n",
    "temperature = df['Daily Temperature (C)']\n"
   ]
  },
  {
   "cell_type": "code",
   "execution_count": 24,
   "id": "9aa2cfe9",
   "metadata": {},
   "outputs": [
    {
     "data": {
      "text/plain": [
       "pandas.core.series.Series"
      ]
     },
     "execution_count": 24,
     "metadata": {},
     "output_type": "execute_result"
    }
   ],
   "source": [
    "type(units_sold)"
   ]
  },
  {
   "cell_type": "code",
   "execution_count": 23,
   "id": "128786de",
   "metadata": {},
   "outputs": [],
   "source": [
    "# Calculate Pearson correlation coefficient\n",
    "\n",
    "correlation_coefficient, p_value = scipy.stats.pearsonr(units_sold, \n",
    "                                                        temperature)"
   ]
  },
  {
   "cell_type": "code",
   "execution_count": 21,
   "id": "12a5a25d",
   "metadata": {},
   "outputs": [
    {
     "name": "stdout",
     "output_type": "stream",
     "text": [
      "\n",
      "---- Correlation Analysis ----\n",
      "Pearson Correlation Coefficient: 0.80\n",
      "P-value: 0.0000\n"
     ]
    }
   ],
   "source": [
    "print(\"\\n---- Correlation Analysis ----\")\n",
    "print(f\"Pearson Correlation Coefficient: {correlation_coefficient:.2f}\")\n",
    "print(f\"P-value: {p_value:.4f}\")"
   ]
  },
  {
   "cell_type": "markdown",
   "id": "0000074b",
   "metadata": {},
   "source": [
    "\n",
    "### Correlation Analysis \n",
    "Pearson Correlation Coefficient: 0.80\n",
    "P-value: 0.0000\n",
    "\n",
    "The Pearson correlation coefficient of 0.80 indicates a strong positive correlation between the daily units sold and the daily temperature. \n",
    "\n",
    "\n",
    "The p-value of 0.0000 (typically displayed as 0.0000 due to rounding) is extremely low, which means the result is statistically significant.\n",
    "\n",
    "### In other words:\n",
    "\n",
    "As the temperature goes up, the sales are likely to increase. This might happen because hotter weather could drive demand for products like beverages or other items that help people cool down. Since the correlation is strong and statistically significant, it suggests that temperature plays a significant role in influencing daily sales."
   ]
  },
  {
   "cell_type": "markdown",
   "id": "7c48f384",
   "metadata": {},
   "source": [
    "### 3. Sort the data frame according to the number of units sold per day "
   ]
  },
  {
   "cell_type": "code",
   "execution_count": 30,
   "id": "d8a9da17",
   "metadata": {},
   "outputs": [
    {
     "data": {
      "text/html": [
       "<div>\n",
       "<style scoped>\n",
       "    .dataframe tbody tr th:only-of-type {\n",
       "        vertical-align: middle;\n",
       "    }\n",
       "\n",
       "    .dataframe tbody tr th {\n",
       "        vertical-align: top;\n",
       "    }\n",
       "\n",
       "    .dataframe thead th {\n",
       "        text-align: right;\n",
       "    }\n",
       "</style>\n",
       "<table border=\"1\" class=\"dataframe\">\n",
       "  <thead>\n",
       "    <tr style=\"text-align: right;\">\n",
       "      <th></th>\n",
       "      <th>Date</th>\n",
       "      <th>Daily Units Sold</th>\n",
       "      <th>Daily Unit Price</th>\n",
       "      <th>Daily Temperature (C)</th>\n",
       "    </tr>\n",
       "  </thead>\n",
       "  <tbody>\n",
       "    <tr>\n",
       "      <th>219</th>\n",
       "      <td>8/7/2024</td>\n",
       "      <td>11</td>\n",
       "      <td>22.2</td>\n",
       "      <td>11</td>\n",
       "    </tr>\n",
       "    <tr>\n",
       "      <th>220</th>\n",
       "      <td>8/8/2024</td>\n",
       "      <td>11</td>\n",
       "      <td>22.2</td>\n",
       "      <td>11</td>\n",
       "    </tr>\n",
       "    <tr>\n",
       "      <th>234</th>\n",
       "      <td>8/22/2024</td>\n",
       "      <td>11</td>\n",
       "      <td>22.2</td>\n",
       "      <td>11</td>\n",
       "    </tr>\n",
       "    <tr>\n",
       "      <th>223</th>\n",
       "      <td>8/11/2024</td>\n",
       "      <td>19</td>\n",
       "      <td>22.2</td>\n",
       "      <td>13</td>\n",
       "    </tr>\n",
       "    <tr>\n",
       "      <th>226</th>\n",
       "      <td>8/14/2024</td>\n",
       "      <td>19</td>\n",
       "      <td>22.2</td>\n",
       "      <td>13</td>\n",
       "    </tr>\n",
       "    <tr>\n",
       "      <th>...</th>\n",
       "      <td>...</td>\n",
       "      <td>...</td>\n",
       "      <td>...</td>\n",
       "      <td>...</td>\n",
       "    </tr>\n",
       "    <tr>\n",
       "      <th>28</th>\n",
       "      <td>1/29/2024</td>\n",
       "      <td>95</td>\n",
       "      <td>24.0</td>\n",
       "      <td>30</td>\n",
       "    </tr>\n",
       "    <tr>\n",
       "      <th>30</th>\n",
       "      <td>1/31/2024</td>\n",
       "      <td>96</td>\n",
       "      <td>24.0</td>\n",
       "      <td>32</td>\n",
       "    </tr>\n",
       "    <tr>\n",
       "      <th>27</th>\n",
       "      <td>1/28/2024</td>\n",
       "      <td>97</td>\n",
       "      <td>24.0</td>\n",
       "      <td>33</td>\n",
       "    </tr>\n",
       "    <tr>\n",
       "      <th>16</th>\n",
       "      <td>1/17/2024</td>\n",
       "      <td>100</td>\n",
       "      <td>24.0</td>\n",
       "      <td>36</td>\n",
       "    </tr>\n",
       "    <tr>\n",
       "      <th>4</th>\n",
       "      <td>1/5/2024</td>\n",
       "      <td>100</td>\n",
       "      <td>24.0</td>\n",
       "      <td>36</td>\n",
       "    </tr>\n",
       "  </tbody>\n",
       "</table>\n",
       "<p>244 rows × 4 columns</p>\n",
       "</div>"
      ],
      "text/plain": [
       "          Date  Daily Units Sold  Daily Unit Price  Daily Temperature (C)\n",
       "219   8/7/2024                11              22.2                     11\n",
       "220   8/8/2024                11              22.2                     11\n",
       "234  8/22/2024                11              22.2                     11\n",
       "223  8/11/2024                19              22.2                     13\n",
       "226  8/14/2024                19              22.2                     13\n",
       "..         ...               ...               ...                    ...\n",
       "28   1/29/2024                95              24.0                     30\n",
       "30   1/31/2024                96              24.0                     32\n",
       "27   1/28/2024                97              24.0                     33\n",
       "16   1/17/2024               100              24.0                     36\n",
       "4     1/5/2024               100              24.0                     36\n",
       "\n",
       "[244 rows x 4 columns]"
      ]
     },
     "execution_count": 30,
     "metadata": {},
     "output_type": "execute_result"
    }
   ],
   "source": [
    "df_sorted = df.sort_values(by='Daily Units Sold')\n",
    "df_sorted"
   ]
  },
  {
   "cell_type": "markdown",
   "id": "2ffc3c54",
   "metadata": {},
   "source": [
    "### 4. Write the sorted data frame to a csv file"
   ]
  },
  {
   "cell_type": "code",
   "execution_count": 31,
   "id": "493baa3a",
   "metadata": {},
   "outputs": [],
   "source": [
    "df_sorted.to_csv('WaterCure_analysis_Hsieh_Luna.csv', index = False )"
   ]
  },
  {
   "cell_type": "code",
   "execution_count": null,
   "id": "14a69ebc",
   "metadata": {},
   "outputs": [],
   "source": []
  },
  {
   "cell_type": "code",
   "execution_count": null,
   "id": "a65ba842",
   "metadata": {},
   "outputs": [],
   "source": []
  },
  {
   "cell_type": "code",
   "execution_count": null,
   "id": "b7ae679a",
   "metadata": {},
   "outputs": [],
   "source": []
  },
  {
   "cell_type": "code",
   "execution_count": null,
   "id": "adb3a3a8",
   "metadata": {},
   "outputs": [],
   "source": []
  },
  {
   "cell_type": "code",
   "execution_count": null,
   "id": "e8950b59",
   "metadata": {},
   "outputs": [],
   "source": []
  },
  {
   "cell_type": "code",
   "execution_count": null,
   "id": "0e63609a",
   "metadata": {},
   "outputs": [],
   "source": []
  },
  {
   "cell_type": "code",
   "execution_count": null,
   "id": "a8211972",
   "metadata": {},
   "outputs": [],
   "source": []
  },
  {
   "cell_type": "code",
   "execution_count": null,
   "id": "fcabc223",
   "metadata": {},
   "outputs": [],
   "source": []
  },
  {
   "cell_type": "code",
   "execution_count": null,
   "id": "f27e67c3",
   "metadata": {},
   "outputs": [],
   "source": []
  },
  {
   "cell_type": "code",
   "execution_count": null,
   "id": "1d9a0301",
   "metadata": {},
   "outputs": [],
   "source": []
  },
  {
   "cell_type": "code",
   "execution_count": null,
   "id": "80730c07",
   "metadata": {},
   "outputs": [],
   "source": []
  },
  {
   "cell_type": "code",
   "execution_count": null,
   "id": "8f7ae4a5",
   "metadata": {},
   "outputs": [],
   "source": []
  },
  {
   "cell_type": "code",
   "execution_count": null,
   "id": "7aa1f13b",
   "metadata": {},
   "outputs": [],
   "source": []
  },
  {
   "cell_type": "code",
   "execution_count": null,
   "id": "d27603c1",
   "metadata": {},
   "outputs": [],
   "source": []
  },
  {
   "cell_type": "code",
   "execution_count": null,
   "id": "50fab09d",
   "metadata": {},
   "outputs": [],
   "source": []
  },
  {
   "cell_type": "code",
   "execution_count": null,
   "id": "f4d27131",
   "metadata": {},
   "outputs": [],
   "source": []
  },
  {
   "cell_type": "code",
   "execution_count": null,
   "id": "0534e2f2",
   "metadata": {},
   "outputs": [],
   "source": []
  },
  {
   "cell_type": "code",
   "execution_count": null,
   "id": "ca1200a1",
   "metadata": {},
   "outputs": [],
   "source": []
  },
  {
   "cell_type": "code",
   "execution_count": null,
   "id": "7b536779",
   "metadata": {},
   "outputs": [],
   "source": []
  },
  {
   "cell_type": "code",
   "execution_count": null,
   "id": "d8a4e7fa",
   "metadata": {},
   "outputs": [],
   "source": []
  },
  {
   "cell_type": "code",
   "execution_count": null,
   "id": "1ed7bbd5",
   "metadata": {},
   "outputs": [],
   "source": []
  },
  {
   "cell_type": "code",
   "execution_count": null,
   "id": "ad47fb15",
   "metadata": {},
   "outputs": [],
   "source": []
  },
  {
   "cell_type": "code",
   "execution_count": null,
   "id": "6395b859",
   "metadata": {},
   "outputs": [],
   "source": []
  },
  {
   "cell_type": "code",
   "execution_count": null,
   "id": "4c1cb9b0",
   "metadata": {},
   "outputs": [],
   "source": []
  },
  {
   "cell_type": "code",
   "execution_count": null,
   "id": "91aba5a4",
   "metadata": {},
   "outputs": [],
   "source": []
  },
  {
   "cell_type": "code",
   "execution_count": null,
   "id": "3161b60f",
   "metadata": {},
   "outputs": [],
   "source": []
  },
  {
   "cell_type": "code",
   "execution_count": null,
   "id": "78e35a92",
   "metadata": {},
   "outputs": [],
   "source": []
  },
  {
   "cell_type": "code",
   "execution_count": null,
   "id": "95b9bf2f",
   "metadata": {},
   "outputs": [],
   "source": []
  }
 ],
 "metadata": {
  "kernelspec": {
   "display_name": "Python 3 (ipykernel)",
   "language": "python",
   "name": "python3"
  },
  "language_info": {
   "codemirror_mode": {
    "name": "ipython",
    "version": 3
   },
   "file_extension": ".py",
   "mimetype": "text/x-python",
   "name": "python",
   "nbconvert_exporter": "python",
   "pygments_lexer": "ipython3",
   "version": "3.12.4"
  }
 },
 "nbformat": 4,
 "nbformat_minor": 5
}
